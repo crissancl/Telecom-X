{
 "cells": [
  {
   "cell_type": "markdown",
   "id": "08aee372",
   "metadata": {},
   "source": [
    "# Telecom X — Análisis de Evasión de Clientes (Churn)\n",
    "\n",
    "_Notebook principal (EDA)._"
   ]
  },
  {
   "cell_type": "code",
   "execution_count": null,
   "id": "b3861d8d",
   "metadata": {},
   "outputs": [],
   "source": [
    "# !pip install pandas numpy matplotlib seaborn scikit-learn --quiet\n",
    "import pandas as pd\n",
    "import numpy as np\n",
    "import matplotlib.pyplot as plt\n",
    "import seaborn as sns\n",
    "from pathlib import Path\n",
    "\n",
    "pd.set_option('display.max_columns', 100)\n",
    "sns.set(style='whitegrid')\n"
   ]
  },
  {
   "cell_type": "markdown",
   "id": "ff5da2ce",
   "metadata": {},
   "source": [
    "## 1) Carga de datos"
   ]
  },
  {
   "cell_type": "code",
   "execution_count": null,
   "id": "815a4190",
   "metadata": {},
   "outputs": [],
   "source": [
    "# Ruta local (ajusta el nombre del archivo)\n",
    "DATA_PATH = Path('../data/telecom_churn.csv')\n",
    "\n",
    "if DATA_PATH.exists():\n",
    "    df = pd.read_csv(DATA_PATH)\n",
    "else:\n",
    "    # Ejemplo: si usas una URL pública, descomenta y reemplaza:\n",
    "    # url = 'https://.../telecom_churn.csv'\n",
    "    # df = pd.read_csv(url)\n",
    "    raise FileNotFoundError(f'No se encontró {DATA_PATH}. Coloca el CSV en data/.')\n",
    "\n",
    "df.head()"
   ]
  },
  {
   "cell_type": "markdown",
   "id": "2829e05f",
   "metadata": {},
   "source": [
    "## 2) Inspección rápida"
   ]
  },
  {
   "cell_type": "code",
   "execution_count": null,
   "id": "c72ed8be",
   "metadata": {},
   "outputs": [],
   "source": [
    "print(\"Dimensiones:\", df.shape)\n",
    "display(df.sample(5, random_state=42))\n",
    "display(df.info())\n",
    "df.describe(include='all').T"
   ]
  },
  {
   "cell_type": "markdown",
   "id": "2d9cb538",
   "metadata": {},
   "source": [
    "## 3) Limpieza y transformaciones básicas"
   ]
  },
  {
   "cell_type": "code",
   "execution_count": null,
   "id": "37840391",
   "metadata": {},
   "outputs": [],
   "source": [
    "# Estandarizar nombre de columna objetivo (churn)\n",
    "posibles = [c for c in df.columns if c.lower() in ('churn','evasión','abandono','es_churn')]\n",
    "if posibles:\n",
    "    target_col = posibles[0]\n",
    "else:\n",
    "    target_col = 'churn'  # ajusta si tu dataset usa otro nombre\n",
    "\n",
    "# Si la columna es Yes/No -> mapear a 1/0\n",
    "if df[target_col].dtype == 'O':\n",
    "    df[target_col] = df[target_col].astype(str).str.strip().str.lower().map({'yes':1,'si':1,'sí':1,'no':0}).fillna(df[target_col])\n",
    "# Convertir 'TotalCharges' tipo texto a numérico (típico en datasets de churn)\n",
    "if 'TotalCharges' in df.columns and df['TotalCharges'].dtype == 'O':\n",
    "    df['TotalCharges'] = pd.to_numeric(df['TotalCharges'].replace(' ', np.nan), errors='coerce')\n",
    "\n",
    "# Quitar duplicados simples\n",
    "df = df.drop_duplicates().reset_index(drop=True)\n",
    "\n",
    "# Nulos\n",
    "nulos = df.isna().sum()\n",
    "print(\"Nulos por columna:\\n\", nulos[nulos>0])\n"
   ]
  },
  {
   "cell_type": "markdown",
   "id": "93231e15",
   "metadata": {},
   "source": [
    "## 4) EDA — Visualizaciones"
   ]
  },
  {
   "cell_type": "code",
   "execution_count": null,
   "id": "e843e20a",
   "metadata": {},
   "outputs": [],
   "source": [
    "fig, ax = plt.subplots(figsize=(4,3))\n",
    "rate = df[target_col].mean() if pd.api.types.is_numeric_dtype(df[target_col]) else df[target_col].map({1:1,0:0}).mean()\n",
    "ax.bar(['Churn rate'], [rate*100])\n",
    "ax.set_ylabel('%')\n",
    "ax.set_title('Churn rate (%)')\n",
    "plt.show()"
   ]
  },
  {
   "cell_type": "code",
   "execution_count": null,
   "id": "d41bd0d6",
   "metadata": {},
   "outputs": [],
   "source": [
    "# Churn por variable categórica (ajusta alguna columna relevante si existe)\n",
    "cat_cols = [c for c in df.select_dtypes('object').columns if c != target_col][:3]  # muestra hasta 3\n",
    "for c in cat_cols:\n",
    "    fig, ax = plt.subplots(figsize=(5,3))\n",
    "    temp = df.groupby(c)[target_col].mean()*100\n",
    "    temp.sort_values(ascending=False).plot(kind='bar', ax=ax)\n",
    "    ax.set_title(f'Churn por {c} (%)')\n",
    "    ax.set_ylabel('%')\n",
    "    plt.tight_layout()\n",
    "    plt.show()"
   ]
  },
  {
   "cell_type": "code",
   "execution_count": null,
   "id": "583a9254",
   "metadata": {},
   "outputs": [],
   "source": [
    "# Correlación (numéricas)\n",
    "num = df.select_dtypes(include=[np.number])\n",
    "if num.shape[1] >= 2:\n",
    "    corr = num.corr()\n",
    "    fig, ax = plt.subplots(figsize=(6,5))\n",
    "    sns.heatmap(corr, cmap='RdBu_r', center=0, ax=ax, annot=False)\n",
    "    ax.set_title('Matriz de correlación (numéricas)')\n",
    "    plt.tight_layout()\n",
    "    plt.show()"
   ]
  },
  {
   "cell_type": "markdown",
   "id": "2b56ba02",
   "metadata": {},
   "source": [
    "## 5) Insights (completa con tus hallazgos)\n",
    "- ...\n",
    "- ...\n",
    "- ..."
   ]
  }
 ],
 "metadata": {},
 "nbformat": 4,
 "nbformat_minor": 5
}
